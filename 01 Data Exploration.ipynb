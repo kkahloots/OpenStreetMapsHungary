{
 "cells": [
  {
   "cell_type": "code",
   "execution_count": 1,
   "metadata": {},
   "outputs": [],
   "source": [
    "from pyspark.sql import SparkSession"
   ]
  },
  {
   "cell_type": "code",
   "execution_count": 2,
   "metadata": {},
   "outputs": [
    {
     "name": "stderr",
     "output_type": "stream",
     "text": [
      "C:\\ProgramData\\Anaconda34\\envs\\gpu_env\\lib\\site-packages\\dask\\config.py:168: YAMLLoadWarning: calling yaml.load() without Loader=... is deprecated, as the default Loader is unsafe. Please read https://msg.pyyaml.org/load for full details.\n",
      "  data = yaml.load(f.read()) or {}\n"
     ]
    }
   ],
   "source": [
    "import dask.dataframe as dd\n",
    "import datashader as ds\n",
    "import datashader.transfer_functions as tf\n",
    "\n",
    "from colorcet import fire"
   ]
  },
  {
   "cell_type": "code",
   "execution_count": 3,
   "metadata": {},
   "outputs": [],
   "source": [
    "spark = SparkSession \\\n",
    "    .builder \\\n",
    "    .appName(\"Python Spark OpenStreetMap project\") \\\n",
    "    .config(\"spark.some.config.option\", \"osm-hungary\") \\\n",
    "    .getOrCreate()"
   ]
  },
  {
   "cell_type": "markdown",
   "metadata": {},
   "source": [
    "## Nodes"
   ]
  },
  {
   "cell_type": "markdown",
   "metadata": {},
   "source": [
    "### spark"
   ]
  },
  {
   "cell_type": "code",
   "execution_count": 4,
   "metadata": {},
   "outputs": [],
   "source": [
    "hungaryNodes = spark.read.parquet(\"parquets/hungary-latest.osm.pbf.node.parquet\")"
   ]
  },
  {
   "cell_type": "code",
   "execution_count": 5,
   "metadata": {},
   "outputs": [
    {
     "name": "stdout",
     "output_type": "stream",
     "text": [
      "11272269\n",
      "+------+-------+-------------+---------+------+--------------------+----+------------------+------------------+\n",
      "|    id|version|    timestamp|changeset|   uid|            user_sid|tags|          latitude|         longitude|\n",
      "+------+-------+-------------+---------+------+--------------------+----+------------------+------------------+\n",
      "|277282|      5|1356326500000| 14386177|740331|    [53 6B 79 6C 69]|  []|        47.5135549|19.047102000000002|\n",
      "|277285|      9|1315781775000|  9276182| 15565|[6B 65 6D 70 65 6...|  []|        47.5135409|19.058013900000002|\n",
      "|277286|      7|1315781775000|  9276182| 15565|[6B 65 6D 70 65 6...|  []|        47.5146097|19.058831700000002|\n",
      "|277290|      3|1295212827000|  6994044| 55843|[66 6C 61 6B 74 6...|  []|        47.5166629|        19.0613926|\n",
      "|277298|      6|1356326500000| 14386177|740331|    [53 6B 79 6C 69]|  []|47.514618000000006|        19.0435418|\n",
      "+------+-------+-------------+---------+------+--------------------+----+------------------+------------------+\n",
      "only showing top 5 rows\n",
      "\n"
     ]
    }
   ],
   "source": [
    "print(hungaryNodes.count())\n",
    "hungaryNodes.show(5)"
   ]
  },
  {
   "cell_type": "markdown",
   "metadata": {},
   "source": [
    "### dask"
   ]
  },
  {
   "cell_type": "code",
   "execution_count": 6,
   "metadata": {},
   "outputs": [],
   "source": [
    "df_nodes = dd.io.parquet.read_parquet(\"parquets/hungary-latest.osm.pbf.node.parquet\")\n",
    "df_nodes = df_nodes.persist()"
   ]
  },
  {
   "cell_type": "code",
   "execution_count": 7,
   "metadata": {},
   "outputs": [
    {
     "name": "stdout",
     "output_type": "stream",
     "text": [
      "11272269\n"
     ]
    },
    {
     "data": {
      "text/html": [
       "<div>\n",
       "<style scoped>\n",
       "    .dataframe tbody tr th:only-of-type {\n",
       "        vertical-align: middle;\n",
       "    }\n",
       "\n",
       "    .dataframe tbody tr th {\n",
       "        vertical-align: top;\n",
       "    }\n",
       "\n",
       "    .dataframe thead th {\n",
       "        text-align: right;\n",
       "    }\n",
       "</style>\n",
       "<table border=\"1\" class=\"dataframe\">\n",
       "  <thead>\n",
       "    <tr style=\"text-align: right;\">\n",
       "      <th></th>\n",
       "      <th>id</th>\n",
       "      <th>version</th>\n",
       "      <th>timestamp</th>\n",
       "      <th>changeset</th>\n",
       "      <th>uid</th>\n",
       "      <th>user_sid</th>\n",
       "      <th>latitude</th>\n",
       "      <th>longitude</th>\n",
       "    </tr>\n",
       "  </thead>\n",
       "  <tbody>\n",
       "    <tr>\n",
       "      <th>0</th>\n",
       "      <td>277282</td>\n",
       "      <td>5</td>\n",
       "      <td>1356326500000</td>\n",
       "      <td>14386177</td>\n",
       "      <td>740331</td>\n",
       "      <td>b'Skyli'</td>\n",
       "      <td>47.513555</td>\n",
       "      <td>19.047102</td>\n",
       "    </tr>\n",
       "    <tr>\n",
       "      <th>1</th>\n",
       "      <td>277285</td>\n",
       "      <td>9</td>\n",
       "      <td>1315781775000</td>\n",
       "      <td>9276182</td>\n",
       "      <td>15565</td>\n",
       "      <td>b'kempelen'</td>\n",
       "      <td>47.513541</td>\n",
       "      <td>19.058014</td>\n",
       "    </tr>\n",
       "    <tr>\n",
       "      <th>2</th>\n",
       "      <td>277286</td>\n",
       "      <td>7</td>\n",
       "      <td>1315781775000</td>\n",
       "      <td>9276182</td>\n",
       "      <td>15565</td>\n",
       "      <td>b'kempelen'</td>\n",
       "      <td>47.514610</td>\n",
       "      <td>19.058832</td>\n",
       "    </tr>\n",
       "    <tr>\n",
       "      <th>3</th>\n",
       "      <td>277290</td>\n",
       "      <td>3</td>\n",
       "      <td>1295212827000</td>\n",
       "      <td>6994044</td>\n",
       "      <td>55843</td>\n",
       "      <td>b'flaktack'</td>\n",
       "      <td>47.516663</td>\n",
       "      <td>19.061393</td>\n",
       "    </tr>\n",
       "    <tr>\n",
       "      <th>4</th>\n",
       "      <td>277298</td>\n",
       "      <td>6</td>\n",
       "      <td>1356326500000</td>\n",
       "      <td>14386177</td>\n",
       "      <td>740331</td>\n",
       "      <td>b'Skyli'</td>\n",
       "      <td>47.514618</td>\n",
       "      <td>19.043542</td>\n",
       "    </tr>\n",
       "  </tbody>\n",
       "</table>\n",
       "</div>"
      ],
      "text/plain": [
       "       id  version      timestamp  changeset     uid     user_sid   latitude  \\\n",
       "0  277282        5  1356326500000   14386177  740331     b'Skyli'  47.513555   \n",
       "1  277285        9  1315781775000    9276182   15565  b'kempelen'  47.513541   \n",
       "2  277286        7  1315781775000    9276182   15565  b'kempelen'  47.514610   \n",
       "3  277290        3  1295212827000    6994044   55843  b'flaktack'  47.516663   \n",
       "4  277298        6  1356326500000   14386177  740331     b'Skyli'  47.514618   \n",
       "\n",
       "   longitude  \n",
       "0  19.047102  \n",
       "1  19.058014  \n",
       "2  19.058832  \n",
       "3  19.061393  \n",
       "4  19.043542  "
      ]
     },
     "execution_count": 7,
     "metadata": {},
     "output_type": "execute_result"
    }
   ],
   "source": [
    "print(len(df_nodes))\n",
    "df_nodes.head()"
   ]
  },
  {
   "cell_type": "markdown",
   "metadata": {},
   "source": [
    "## relations"
   ]
  },
  {
   "cell_type": "markdown",
   "metadata": {},
   "source": [
    "### spark"
   ]
  },
  {
   "cell_type": "code",
   "execution_count": 8,
   "metadata": {},
   "outputs": [
    {
     "name": "stdout",
     "output_type": "stream",
     "text": [
      "52401\n",
      "+-----+-------+-------------+---------+------+-------------------+--------------------+--------------------+\n",
      "|   id|version|    timestamp|changeset|   uid|           user_sid|                tags|             members|\n",
      "+-----+-------+-------------+---------+------+-------------------+--------------------+--------------------+\n",
      "|11764|      4|1370549745000| 16449377|  8219|[68 75 6E 73 6C 79]|[[name, Képviselő...|[[24025991, outer...|\n",
      "|11766|      4|1372595148000| 16763856|610781|   [73 7A 61 6C 69]|[[building, yes],...|[[24021187, outer...|\n",
      "|11767|      3|1372595691000| 16763856|610781|   [73 7A 61 6C 69]|[[building, offic...|[[24024182, outer...|\n",
      "|11768|      3|1398799751000| 22030053|152074|[62 65 77 65 74 61]|[[type, multipoly...|[[24024210, outer...|\n",
      "|11772|      7|1445454885000| 34786035|152074|[62 65 77 65 74 61]|[[addr:city, Buda...|[[24026306, inner...|\n",
      "+-----+-------+-------------+---------+------+-------------------+--------------------+--------------------+\n",
      "only showing top 5 rows\n",
      "\n"
     ]
    }
   ],
   "source": [
    "hungaryRelations = spark.read.parquet(\"parquets/hungary-latest.osm.pbf.relation.parquet\")\n",
    "print(hungaryRelations.count())\n",
    "hungaryRelations.show(5)"
   ]
  },
  {
   "cell_type": "markdown",
   "metadata": {},
   "source": [
    "### dask"
   ]
  },
  {
   "cell_type": "code",
   "execution_count": 9,
   "metadata": {},
   "outputs": [],
   "source": [
    "df_relations = dd.io.parquet.read_parquet(\"parquets/hungary-latest.osm.pbf.relation.parquet\")\n",
    "df_relations = df_relations.persist()"
   ]
  },
  {
   "cell_type": "code",
   "execution_count": 10,
   "metadata": {},
   "outputs": [
    {
     "name": "stdout",
     "output_type": "stream",
     "text": [
      "52401\n"
     ]
    },
    {
     "data": {
      "text/html": [
       "<div>\n",
       "<style scoped>\n",
       "    .dataframe tbody tr th:only-of-type {\n",
       "        vertical-align: middle;\n",
       "    }\n",
       "\n",
       "    .dataframe tbody tr th {\n",
       "        vertical-align: top;\n",
       "    }\n",
       "\n",
       "    .dataframe thead th {\n",
       "        text-align: right;\n",
       "    }\n",
       "</style>\n",
       "<table border=\"1\" class=\"dataframe\">\n",
       "  <thead>\n",
       "    <tr style=\"text-align: right;\">\n",
       "      <th></th>\n",
       "      <th>id</th>\n",
       "      <th>version</th>\n",
       "      <th>timestamp</th>\n",
       "      <th>changeset</th>\n",
       "      <th>uid</th>\n",
       "      <th>user_sid</th>\n",
       "    </tr>\n",
       "  </thead>\n",
       "  <tbody>\n",
       "    <tr>\n",
       "      <th>0</th>\n",
       "      <td>11764</td>\n",
       "      <td>4</td>\n",
       "      <td>1370549745000</td>\n",
       "      <td>16449377</td>\n",
       "      <td>8219</td>\n",
       "      <td>b'hunsly'</td>\n",
       "    </tr>\n",
       "    <tr>\n",
       "      <th>1</th>\n",
       "      <td>11766</td>\n",
       "      <td>4</td>\n",
       "      <td>1372595148000</td>\n",
       "      <td>16763856</td>\n",
       "      <td>610781</td>\n",
       "      <td>b'szali'</td>\n",
       "    </tr>\n",
       "    <tr>\n",
       "      <th>2</th>\n",
       "      <td>11767</td>\n",
       "      <td>3</td>\n",
       "      <td>1372595691000</td>\n",
       "      <td>16763856</td>\n",
       "      <td>610781</td>\n",
       "      <td>b'szali'</td>\n",
       "    </tr>\n",
       "    <tr>\n",
       "      <th>3</th>\n",
       "      <td>11768</td>\n",
       "      <td>3</td>\n",
       "      <td>1398799751000</td>\n",
       "      <td>22030053</td>\n",
       "      <td>152074</td>\n",
       "      <td>b'beweta'</td>\n",
       "    </tr>\n",
       "    <tr>\n",
       "      <th>4</th>\n",
       "      <td>11772</td>\n",
       "      <td>7</td>\n",
       "      <td>1445454885000</td>\n",
       "      <td>34786035</td>\n",
       "      <td>152074</td>\n",
       "      <td>b'beweta'</td>\n",
       "    </tr>\n",
       "  </tbody>\n",
       "</table>\n",
       "</div>"
      ],
      "text/plain": [
       "      id  version      timestamp  changeset     uid   user_sid\n",
       "0  11764        4  1370549745000   16449377    8219  b'hunsly'\n",
       "1  11766        4  1372595148000   16763856  610781   b'szali'\n",
       "2  11767        3  1372595691000   16763856  610781   b'szali'\n",
       "3  11768        3  1398799751000   22030053  152074  b'beweta'\n",
       "4  11772        7  1445454885000   34786035  152074  b'beweta'"
      ]
     },
     "execution_count": 10,
     "metadata": {},
     "output_type": "execute_result"
    }
   ],
   "source": [
    "print(len(df_relations))\n",
    "df_relations.head()"
   ]
  },
  {
   "cell_type": "markdown",
   "metadata": {},
   "source": [
    "## Ways"
   ]
  },
  {
   "cell_type": "markdown",
   "metadata": {},
   "source": [
    "### spark"
   ]
  },
  {
   "cell_type": "code",
   "execution_count": 11,
   "metadata": {},
   "outputs": [],
   "source": [
    "hungaryWays = spark.read.parquet(\"parquets/hungary-latest.osm.pbf.way.parquet\")"
   ]
  },
  {
   "cell_type": "code",
   "execution_count": 12,
   "metadata": {},
   "outputs": [
    {
     "name": "stdout",
     "output_type": "stream",
     "text": [
      "1408800\n",
      "+-------+-------+-------------+---------+-------+--------------------+--------------------+--------------------+\n",
      "|     id|version|    timestamp|changeset|    uid|            user_sid|                tags|               nodes|\n",
      "+-------+-------+-------------+---------+-------+--------------------+--------------------+--------------------+\n",
      "|3175810|      6|1307100504000|  8327728| 247611|[53 7A 50 61 75 6...|[[highway, reside...|[[0, 15231786], [...|\n",
      "|3175943|      3|1366287135000| 15772683| 408450|[42 C3 A1 74 68 6...|[[highway, reside...|[[0, 15234255], [...|\n",
      "|3175983|      6|1307094783000|  8327728| 247611|[53 7A 50 61 75 6...|[[highway, reside...|[[0, 15232076], [...|\n",
      "|3192356|     17|1415790787000| 26732389|1971976|[6E 61 67 79 5F 6...|[[highway, second...|[[0, 1259548666],...|\n",
      "|3212111|     10|1399325824000| 22155678| 311866| [70 61 70 65 73 7A]|[[highway, second...|[[0, 15475952], [...|\n",
      "+-------+-------+-------------+---------+-------+--------------------+--------------------+--------------------+\n",
      "only showing top 5 rows\n",
      "\n"
     ]
    }
   ],
   "source": [
    "print(hungaryWays.count())\n",
    "hungaryWays.show(5)"
   ]
  },
  {
   "cell_type": "markdown",
   "metadata": {},
   "source": [
    "### dask"
   ]
  },
  {
   "cell_type": "code",
   "execution_count": 13,
   "metadata": {},
   "outputs": [],
   "source": [
    "df_ways = dd.io.parquet.read_parquet(\"parquets/hungary-latest.osm.pbf.way.parquet\")\n",
    "df_ways = df_ways.persist()"
   ]
  },
  {
   "cell_type": "code",
   "execution_count": 14,
   "metadata": {},
   "outputs": [
    {
     "name": "stdout",
     "output_type": "stream",
     "text": [
      "1408800\n"
     ]
    },
    {
     "data": {
      "text/html": [
       "<div>\n",
       "<style scoped>\n",
       "    .dataframe tbody tr th:only-of-type {\n",
       "        vertical-align: middle;\n",
       "    }\n",
       "\n",
       "    .dataframe tbody tr th {\n",
       "        vertical-align: top;\n",
       "    }\n",
       "\n",
       "    .dataframe thead th {\n",
       "        text-align: right;\n",
       "    }\n",
       "</style>\n",
       "<table border=\"1\" class=\"dataframe\">\n",
       "  <thead>\n",
       "    <tr style=\"text-align: right;\">\n",
       "      <th></th>\n",
       "      <th>id</th>\n",
       "      <th>version</th>\n",
       "      <th>timestamp</th>\n",
       "      <th>changeset</th>\n",
       "      <th>uid</th>\n",
       "      <th>user_sid</th>\n",
       "    </tr>\n",
       "  </thead>\n",
       "  <tbody>\n",
       "    <tr>\n",
       "      <th>0</th>\n",
       "      <td>3175810</td>\n",
       "      <td>6</td>\n",
       "      <td>1307100504000</td>\n",
       "      <td>8327728</td>\n",
       "      <td>247611</td>\n",
       "      <td>b'SzPaula'</td>\n",
       "    </tr>\n",
       "    <tr>\n",
       "      <th>1</th>\n",
       "      <td>3175943</td>\n",
       "      <td>3</td>\n",
       "      <td>1366287135000</td>\n",
       "      <td>15772683</td>\n",
       "      <td>408450</td>\n",
       "      <td>b'B\\xc3\\xa1thoryP\\xc3\\xa9ter'</td>\n",
       "    </tr>\n",
       "    <tr>\n",
       "      <th>2</th>\n",
       "      <td>3175983</td>\n",
       "      <td>6</td>\n",
       "      <td>1307094783000</td>\n",
       "      <td>8327728</td>\n",
       "      <td>247611</td>\n",
       "      <td>b'SzPaula'</td>\n",
       "    </tr>\n",
       "    <tr>\n",
       "      <th>3</th>\n",
       "      <td>3192356</td>\n",
       "      <td>17</td>\n",
       "      <td>1415790787000</td>\n",
       "      <td>26732389</td>\n",
       "      <td>1971976</td>\n",
       "      <td>b'nagy_balint'</td>\n",
       "    </tr>\n",
       "    <tr>\n",
       "      <th>4</th>\n",
       "      <td>3212111</td>\n",
       "      <td>10</td>\n",
       "      <td>1399325824000</td>\n",
       "      <td>22155678</td>\n",
       "      <td>311866</td>\n",
       "      <td>b'papesz'</td>\n",
       "    </tr>\n",
       "  </tbody>\n",
       "</table>\n",
       "</div>"
      ],
      "text/plain": [
       "        id  version      timestamp  changeset      uid  \\\n",
       "0  3175810        6  1307100504000    8327728   247611   \n",
       "1  3175943        3  1366287135000   15772683   408450   \n",
       "2  3175983        6  1307094783000    8327728   247611   \n",
       "3  3192356       17  1415790787000   26732389  1971976   \n",
       "4  3212111       10  1399325824000   22155678   311866   \n",
       "\n",
       "                        user_sid  \n",
       "0                     b'SzPaula'  \n",
       "1  b'B\\xc3\\xa1thoryP\\xc3\\xa9ter'  \n",
       "2                     b'SzPaula'  \n",
       "3                 b'nagy_balint'  \n",
       "4                      b'papesz'  "
      ]
     },
     "execution_count": 14,
     "metadata": {},
     "output_type": "execute_result"
    }
   ],
   "source": [
    "print(len(df_ways))\n",
    "df_ways.head()"
   ]
  },
  {
   "cell_type": "code",
   "execution_count": null,
   "metadata": {},
   "outputs": [],
   "source": []
  },
  {
   "cell_type": "code",
   "execution_count": null,
   "metadata": {},
   "outputs": [],
   "source": []
  }
 ],
 "metadata": {
  "kernelspec": {
   "display_name": "Python 3",
   "language": "python",
   "name": "python3"
  },
  "language_info": {
   "codemirror_mode": {
    "name": "ipython",
    "version": 3
   },
   "file_extension": ".py",
   "mimetype": "text/x-python",
   "name": "python",
   "nbconvert_exporter": "python",
   "pygments_lexer": "ipython3",
   "version": "3.6.7"
  }
 },
 "nbformat": 4,
 "nbformat_minor": 2
}
